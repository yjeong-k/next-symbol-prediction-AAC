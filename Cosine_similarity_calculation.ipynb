{
 "cells": [
  {
   "cell_type": "markdown",
   "id": "abf7037e",
   "metadata": {},
   "source": [
    "#Calculate cosine similarity between symbols and sentences"
   ]
  },
  {
   "cell_type": "markdown",
   "id": "5324fb70",
   "metadata": {},
   "source": [
    "##0. Setup"
   ]
  },
  {
   "cell_type": "code",
   "execution_count": 5,
   "id": "313a1adf",
   "metadata": {},
   "outputs": [],
   "source": [
    "import pandas as pd\n",
    "import numpy as np\n",
    "from sklearn.metrics.pairwise import cosine_distances"
   ]
  },
  {
   "cell_type": "markdown",
   "id": "e3a76204",
   "metadata": {},
   "source": [
    "##1. Calculate"
   ]
  },
  {
   "cell_type": "code",
   "execution_count": null,
   "id": "12e1be3d",
   "metadata": {},
   "outputs": [],
   "source": [
    "symbols = pd.read_csv('symbol_with_embeddings.csv')\n",
    "sentences = pd.read_csv('sentence_with_embeddings.csv')"
   ]
  },
  {
   "cell_type": "code",
   "execution_count": 6,
   "id": "88878f13",
   "metadata": {},
   "outputs": [],
   "source": [
    "# Convert the 'Embedding' column from string representation to numpy arrays\n",
    "symbol_embedding = np.array(symbols['Embeddings'].apply(eval).tolist())\n",
    "sentence_embedding = np.array(sentences['Sentence_Embedding'].apply(eval).tolist())"
   ]
  },
  {
   "cell_type": "code",
   "execution_count": 7,
   "id": "713b1436",
   "metadata": {},
   "outputs": [],
   "source": [
    "distances = cosine_distances(symbol_embedding, sentence_embedding)"
   ]
  },
  {
   "cell_type": "code",
   "execution_count": 8,
   "id": "765371be",
   "metadata": {},
   "outputs": [],
   "source": [
    "closest_indices = np.argsort(distances, axis=1)[:, :5]"
   ]
  },
  {
   "cell_type": "code",
   "execution_count": 9,
   "id": "73f24b55",
   "metadata": {},
   "outputs": [],
   "source": [
    "results = []\n",
    "\n",
    "for i, indices in enumerate(closest_indices):\n",
    "    closest_embeddings = sentences.iloc[indices]\n",
    "    for _, row in closest_embeddings.iterrows():\n",
    "        results.append({\n",
    "            'Symbol': symbols.iloc[i]['Symbol'],\n",
    "            'Close Sentence': row['Sentence'],\n",
    "            'Distance': distances[i, row.name]\n",
    "        })\n",
    "\n",
    "# Convert results to DataFrame\n",
    "results_df = pd.DataFrame(results)"
   ]
  },
  {
   "cell_type": "code",
   "execution_count": 10,
   "id": "ecc22051",
   "metadata": {},
   "outputs": [
    {
     "data": {
      "text/html": [
       "<div>\n",
       "<style scoped>\n",
       "    .dataframe tbody tr th:only-of-type {\n",
       "        vertical-align: middle;\n",
       "    }\n",
       "\n",
       "    .dataframe tbody tr th {\n",
       "        vertical-align: top;\n",
       "    }\n",
       "\n",
       "    .dataframe thead th {\n",
       "        text-align: right;\n",
       "    }\n",
       "</style>\n",
       "<table border=\"1\" class=\"dataframe\">\n",
       "  <thead>\n",
       "    <tr style=\"text-align: right;\">\n",
       "      <th></th>\n",
       "      <th>Symbol</th>\n",
       "      <th>Close Sentence</th>\n",
       "      <th>Distance</th>\n",
       "    </tr>\n",
       "  </thead>\n",
       "  <tbody>\n",
       "    <tr>\n",
       "      <th>0</th>\n",
       "      <td>73</td>\n",
       "      <td>45</td>\n",
       "      <td>0.243583</td>\n",
       "    </tr>\n",
       "    <tr>\n",
       "      <th>1</th>\n",
       "      <td>73</td>\n",
       "      <td>265</td>\n",
       "      <td>0.248921</td>\n",
       "    </tr>\n",
       "    <tr>\n",
       "      <th>2</th>\n",
       "      <td>73</td>\n",
       "      <td>32</td>\n",
       "      <td>0.257942</td>\n",
       "    </tr>\n",
       "    <tr>\n",
       "      <th>3</th>\n",
       "      <td>73</td>\n",
       "      <td>35</td>\n",
       "      <td>0.279004</td>\n",
       "    </tr>\n",
       "    <tr>\n",
       "      <th>4</th>\n",
       "      <td>73</td>\n",
       "      <td>35</td>\n",
       "      <td>0.279004</td>\n",
       "    </tr>\n",
       "    <tr>\n",
       "      <th>...</th>\n",
       "      <td>...</td>\n",
       "      <td>...</td>\n",
       "      <td>...</td>\n",
       "    </tr>\n",
       "    <tr>\n",
       "      <th>36345</th>\n",
       "      <td>무슨과목좋아해</td>\n",
       "      <td>도우미쌤은 안타는데요</td>\n",
       "      <td>0.320404</td>\n",
       "    </tr>\n",
       "    <tr>\n",
       "      <th>36346</th>\n",
       "      <td>무슨과목좋아해</td>\n",
       "      <td>일요일은 수업안하죠?</td>\n",
       "      <td>0.333386</td>\n",
       "    </tr>\n",
       "    <tr>\n",
       "      <th>36347</th>\n",
       "      <td>무슨과목좋아해</td>\n",
       "      <td>중학생도 수업하지예?</td>\n",
       "      <td>0.342415</td>\n",
       "    </tr>\n",
       "    <tr>\n",
       "      <th>36348</th>\n",
       "      <td>무슨과목좋아해</td>\n",
       "      <td>4학년이요</td>\n",
       "      <td>0.345576</td>\n",
       "    </tr>\n",
       "    <tr>\n",
       "      <th>36349</th>\n",
       "      <td>무슨과목좋아해</td>\n",
       "      <td>4학년이요</td>\n",
       "      <td>0.345576</td>\n",
       "    </tr>\n",
       "  </tbody>\n",
       "</table>\n",
       "<p>36350 rows × 3 columns</p>\n",
       "</div>"
      ],
      "text/plain": [
       "        Symbol Close Sentence  Distance\n",
       "0           73             45  0.243583\n",
       "1           73            265  0.248921\n",
       "2           73             32  0.257942\n",
       "3           73             35  0.279004\n",
       "4           73             35  0.279004\n",
       "...        ...            ...       ...\n",
       "36345  무슨과목좋아해    도우미쌤은 안타는데요  0.320404\n",
       "36346  무슨과목좋아해    일요일은 수업안하죠?  0.333386\n",
       "36347  무슨과목좋아해    중학생도 수업하지예?  0.342415\n",
       "36348  무슨과목좋아해          4학년이요  0.345576\n",
       "36349  무슨과목좋아해          4학년이요  0.345576\n",
       "\n",
       "[36350 rows x 3 columns]"
      ]
     },
     "execution_count": 10,
     "metadata": {},
     "output_type": "execute_result"
    }
   ],
   "source": [
    "results_df"
   ]
  },
  {
   "cell_type": "code",
   "execution_count": 11,
   "id": "12627380",
   "metadata": {},
   "outputs": [],
   "source": [
    "results_df.to_csv('similarity_check.csv', index=False, encoding='utf-8')"
   ]
  },
  {
   "cell_type": "code",
   "execution_count": null,
   "id": "3af318c1",
   "metadata": {},
   "outputs": [],
   "source": []
  }
 ],
 "metadata": {
  "kernelspec": {
   "display_name": "Python 3 (ipykernel)",
   "language": "python",
   "name": "python3"
  },
  "language_info": {
   "codemirror_mode": {
    "name": "ipython",
    "version": 3
   },
   "file_extension": ".py",
   "mimetype": "text/x-python",
   "name": "python",
   "nbconvert_exporter": "python",
   "pygments_lexer": "ipython3",
   "version": "3.8.3"
  }
 },
 "nbformat": 4,
 "nbformat_minor": 5
}

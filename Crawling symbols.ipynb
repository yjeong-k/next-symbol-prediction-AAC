{
  "nbformat": 4,
  "nbformat_minor": 0,
  "metadata": {
    "colab": {
      "provenance": []
    },
    "kernelspec": {
      "name": "python3",
      "display_name": "Python 3"
    },
    "language_info": {
      "name": "python"
    }
  },
  "cells": [
    {
      "cell_type": "markdown",
      "source": [
        "#Crawling KAAC symbols list"
      ],
      "metadata": {
        "id": "nwgP1vu40I0e"
      }
    },
    {
      "cell_type": "markdown",
      "source": [
        "Crawling Korean AAC symbols from the following webpage : http://symbol.ksaac.or.kr/searchsymbols/introduction.jsp\n"
      ],
      "metadata": {
        "id": "s_4EfcKI8Acl"
      }
    },
    {
      "cell_type": "markdown",
      "source": [
        "##0. Setup"
      ],
      "metadata": {
        "id": "QbMXMlC30Q6Q"
      }
    },
    {
      "cell_type": "code",
      "source": [
        "import requests\n",
        "from bs4 import BeautifulSoup\n",
        "import pandas as pd"
      ],
      "metadata": {
        "id": "6XxBBHae0TG5"
      },
      "execution_count": 4,
      "outputs": []
    },
    {
      "cell_type": "markdown",
      "source": [
        "## 1. Crawl category list"
      ],
      "metadata": {
        "id": "JBfpFHCP0E6A"
      }
    },
    {
      "cell_type": "code",
      "source": [
        "url = 'http://symbol.ksaac.or.kr/searchsymbols'\n",
        "response = requests.get(url)\n",
        "\n",
        "if response.status_code == 200:\n",
        "    soup = BeautifulSoup(response.content, 'html.parser')\n",
        "\n",
        "    buttons = soup.find_all('button', class_='w3-large w3-left-align category-l1-name')\n",
        "    categories = []\n",
        "    # Iterate through each button and extract the category name and id\n",
        "    for button in buttons:\n",
        "        content = button.text.strip()\n",
        "        button_id = button.get('id')\n",
        "        categories.append([content, button_id])\n",
        "\n",
        "    category_df = pd.DataFrame(categories, columns=['Category', 'ID'])\n",
        "    print(category_df)\n",
        "\n",
        "else:\n",
        "    print(f\"Failed to retrieve the webpage. Status code: {response.status_code}\")"
      ],
      "metadata": {
        "colab": {
          "base_uri": "https://localhost:8080/"
        },
        "id": "6Ww3lECDmZwn",
        "outputId": "0092167c-9c65-4084-a64a-c69bf51471cc"
      },
      "execution_count": 16,
      "outputs": [
        {
          "output_type": "stream",
          "name": "stdout",
          "text": [
            "                 Category    ID\n",
            "0                   기본기능키    c2\n",
            "1                      음식    c3\n",
            "2                      학교    c4\n",
            "3                       집    c5\n",
            "4                  놀이, 여가    c6\n",
            "5                      건강    c7\n",
            "6                      교통    c8\n",
            "7                    지역사회    c9\n",
            "8                     스케줄   c10\n",
            "9                      종교   c11\n",
            "10                    스포츠   c12\n",
            "11                      색   c13\n",
            "12                 동물, 식물   c14\n",
            "13                     인물   c15\n",
            "14                     사람   c16\n",
            "15                     국가   c17\n",
            "16                    미분류   c18\n",
            "17             결혼, 출산, 육아   c19\n",
            "18                   대학생활   c20\n",
            "19           복지, 지원, 주민센터   c21\n",
            "20                 장애피해상황   c22\n",
            "21                     직업   c23\n",
            "22  휠체어, 휴대폰, 자동차정비, AS센터   c24\n",
            "23                위톡 그림상징  c156\n",
            "24                 커뮤니 상징  c157\n"
          ]
        }
      ]
    },
    {
      "cell_type": "markdown",
      "source": [
        "##2. Crawl symbols"
      ],
      "metadata": {
        "id": "s6ZCtwJk53V5"
      }
    },
    {
      "cell_type": "code",
      "source": [
        "import requests\n",
        "from bs4 import BeautifulSoup\n",
        "import pandas as pd\n",
        "\n",
        "# Set to store the crawled symbols (no duplicates)\n",
        "symbols = set()\n",
        "\n",
        "for id in category_df['ID']:\n",
        "  category = id[1:]  # remove 'c' in front of ids\n",
        "  url = f'http://symbol.ksaac.or.kr/searchsymbols/searchbycategory?cago={category}'\n",
        "  response = requests.get(url)\n",
        "\n",
        "  if response.status_code == 200:\n",
        "      soup = BeautifulSoup(response.content, 'html.parser')\n",
        "\n",
        "      # Each symbol is stored with the tag below\n",
        "      expressions = soup.find_all('span', class_='s-expression')\n",
        "\n",
        "      # Iterate through each <span> and extract the text content\n",
        "      for expression in expressions:\n",
        "          content = expression.text.strip()\n",
        "          symbols.add(content)\n",
        "\n",
        "  else:\n",
        "      print(f\"Failed to retrieve the webpage. Status code: {response.status_code}\")\n",
        "\n",
        "symbol_df = pd.DataFrame(list(symbols), columns=['Symbol'])\n",
        "symbol_df.to_csv('symbol_df.csv', index=False)\n",
        "print(symbol_df)"
      ],
      "metadata": {
        "colab": {
          "base_uri": "https://localhost:8080/"
        },
        "id": "S7_16Uwzzky4",
        "outputId": "d794ee0b-b5f3-494d-dbe5-fe62aaf7d723"
      },
      "execution_count": 17,
      "outputs": [
        {
          "output_type": "stream",
          "name": "stdout",
          "text": [
            "         Symbol\n",
            "0            73\n",
            "1            실수\n",
            "2         따끔거려요\n",
            "3     교통사고가-났어요\n",
            "4        정리해주세요\n",
            "...         ...\n",
            "7265        동식물\n",
            "7266         복어\n",
            "7267       평면도형\n",
            "7268       페브리즈\n",
            "7269    무슨과목좋아해\n",
            "\n",
            "[7270 rows x 1 columns]\n"
          ]
        }
      ]
    },
    {
      "cell_type": "markdown",
      "source": [
        "Without removing duplicates, there are 10359 symbols in total."
      ],
      "metadata": {
        "id": "7fBvjIx_7k9g"
      }
    }
  ]
}